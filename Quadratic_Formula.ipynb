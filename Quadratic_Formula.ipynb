{
  "nbformat": 4,
  "nbformat_minor": 0,
  "metadata": {
    "colab": {
      "provenance": [],
      "authorship_tag": "ABX9TyPoNnZJmDUCO1LWx2PhQvOB",
      "include_colab_link": true
    },
    "kernelspec": {
      "name": "python3",
      "display_name": "Python 3"
    },
    "language_info": {
      "name": "python"
    }
  },
  "cells": [
    {
      "cell_type": "markdown",
      "metadata": {
        "id": "view-in-github",
        "colab_type": "text"
      },
      "source": [
        "<a href=\"https://colab.research.google.com/github/quantumbiochemistry/python/blob/main/Quadratic_Formula.ipynb\" target=\"_parent\"><img src=\"https://colab.research.google.com/assets/colab-badge.svg\" alt=\"Open In Colab\"/></a>"
      ]
    },
    {
      "cell_type": "code",
      "execution_count": null,
      "metadata": {
        "id": "2GqpkEA7yNHH"
      },
      "outputs": [],
      "source": [
        "import math\n",
        "\n",
        "def quadratic(a,b,c):\n",
        "    if b**2 < 4*a*c:\n",
        "        d = 1j*math.sqrt(-(b**2)+4*a*c)\n",
        "    else:\n",
        "        d = math.sqrt((b**2)-4*a*c)\n",
        "    e = (-b+d)/(2*a)\n",
        "    f = (-b+(-d))/(2*a)\n",
        "    return [e,f]\n",
        "\n",
        "val1 = int(input('Type the value of a: '))\n",
        "val2 = int(input('Type the value of b '))\n",
        "val3 = int(input('Type the value of c: '))\n",
        "\n",
        "[e,f]=quadratic(val1,val2,val3)\n",
        "\n",
        "print(\"The answers are\", e, \",\", f)"
      ]
    }
  ]
}