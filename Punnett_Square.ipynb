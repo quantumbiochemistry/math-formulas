{
  "nbformat": 4,
  "nbformat_minor": 0,
  "metadata": {
    "colab": {
      "provenance": [],
      "authorship_tag": "ABX9TyP6FKFRO4th1Bf9Oyru9yc1",
      "include_colab_link": true
    },
    "kernelspec": {
      "name": "python3",
      "display_name": "Python 3"
    },
    "language_info": {
      "name": "python"
    }
  },
  "cells": [
    {
      "cell_type": "markdown",
      "metadata": {
        "id": "view-in-github",
        "colab_type": "text"
      },
      "source": [
        "<a href=\"https://colab.research.google.com/github/quantumbiochemistry/python/blob/main/Punnett_Square.ipynb\" target=\"_parent\"><img src=\"https://colab.research.google.com/assets/colab-badge.svg\" alt=\"Open In Colab\"/></a>"
      ]
    },
    {
      "cell_type": "code",
      "execution_count": null,
      "metadata": {
        "colab": {
          "base_uri": "https://localhost:8080/"
        },
        "id": "pBZOSKulwCkI",
        "outputId": "124623c8-c0e4-4fda-def3-6a8625a7cb37"
      },
      "outputs": [
        {
          "output_type": "stream",
          "name": "stdout",
          "text": [
            "Please format all blood types as such: Ia = Type A allele, Ib = Type B allele, i = Type O allele\n",
            "Enter first allele of Parent A: Ia\n",
            "Enter second allele of Parent A: i\n",
            "Parent A's phenotype is ('Ia', 'i')\n",
            "Enter first allele of Parent B: Ia\n",
            "Enter second allele of Parent B: i\n",
            "Parent B's phenotype is ('Ia', 'i')\n",
            "Possible phenotypes include ('Ia', 'Ia') ('Ia', 'i') ('i', 'Ia') ('i', 'i')\n"
          ]
        }
      ],
      "source": [
        "print(\"Please format all blood types as such: Ia = Type A allele, Ib = Type B allele, i = Type O allele\")\n",
        "i = input(\"Enter first allele of Parent A: \")\n",
        "j = input(\"Enter second allele of Parent A: \")\n",
        "print(\"Parent A's phenotype is\",(i,j))\n",
        "\n",
        "x = input(\"Enter first allele of Parent B: \")\n",
        "y = input(\"Enter second allele of Parent B: \")\n",
        "print(\"Parent B's phenotype is\",(x,y))\n",
        "\n",
        "print(\"Possible phenotypes include\",(i,x),(i,y),(j,x),(j,y))\n"
      ]
    },
    {
      "cell_type": "markdown",
      "source": [],
      "metadata": {
        "id": "4dfGLoMu4ZjL"
      }
    },
    {
      "cell_type": "code",
      "source": [
        "parent1=[\"IA\",\"i\",\"iC\"]\n",
        "parent2=[\"IB\",\"IB\",\"i\"]"
      ],
      "metadata": {
        "id": "UJJUpinr4aOt"
      },
      "execution_count": 10,
      "outputs": []
    },
    {
      "cell_type": "code",
      "source": [
        "print(\"p1\",parent1,\"p2\",parent2)"
      ],
      "metadata": {
        "colab": {
          "base_uri": "https://localhost:8080/"
        },
        "id": "YnOsBMKi4gKv",
        "outputId": "2e55aeda-846e-4fe1-8797-40e32721c801"
      },
      "execution_count": 12,
      "outputs": [
        {
          "output_type": "stream",
          "name": "stdout",
          "text": [
            "p1 ['IA', 'i', 'iC'] p2 ['IB', 'IB', 'i']\n"
          ]
        }
      ]
    },
    {
      "cell_type": "code",
      "source": [
        "comb=[]\n",
        "for i in parent1:\n",
        "  for j in parent2:\n",
        "    comb=comb+[[i,j]]"
      ],
      "metadata": {
        "id": "2GwZ3a4g4m3P"
      },
      "execution_count": 13,
      "outputs": []
    },
    {
      "cell_type": "code",
      "source": [
        "print(comb)"
      ],
      "metadata": {
        "colab": {
          "base_uri": "https://localhost:8080/"
        },
        "id": "YLTYO_Q64zHX",
        "outputId": "f73c7927-a4fb-4fa8-c0b7-aabe0af2e0a2"
      },
      "execution_count": 14,
      "outputs": [
        {
          "output_type": "stream",
          "name": "stdout",
          "text": [
            "[['IA', 'IB'], ['IA', 'IB'], ['IA', 'i'], ['i', 'IB'], ['i', 'IB'], ['i', 'i'], ['iC', 'IB'], ['iC', 'IB'], ['iC', 'i']]\n"
          ]
        }
      ]
    },
    {
      "cell_type": "code",
      "source": [
        "for i in comb:\n",
        "  print(i)"
      ],
      "metadata": {
        "id": "Vom8tWq94z_y",
        "outputId": "62593758-48ba-433c-a56a-cfdda12932ed",
        "colab": {
          "base_uri": "https://localhost:8080/"
        }
      },
      "execution_count": 15,
      "outputs": [
        {
          "output_type": "stream",
          "name": "stdout",
          "text": [
            "['IA', 'IB']\n",
            "['IA', 'IB']\n",
            "['IA', 'i']\n",
            "['i', 'IB']\n",
            "['i', 'IB']\n",
            "['i', 'i']\n",
            "['iC', 'IB']\n",
            "['iC', 'IB']\n",
            "['iC', 'i']\n"
          ]
        }
      ]
    }
  ]
}