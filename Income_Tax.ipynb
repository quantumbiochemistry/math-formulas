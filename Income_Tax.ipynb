{
  "nbformat": 4,
  "nbformat_minor": 0,
  "metadata": {
    "colab": {
      "provenance": [],
      "authorship_tag": "ABX9TyNHGM9AYiwj1GwBs1Y0CvvM",
      "include_colab_link": true
    },
    "kernelspec": {
      "name": "python3",
      "display_name": "Python 3"
    },
    "language_info": {
      "name": "python"
    }
  },
  "cells": [
    {
      "cell_type": "markdown",
      "metadata": {
        "id": "view-in-github",
        "colab_type": "text"
      },
      "source": [
        "<a href=\"https://colab.research.google.com/github/quantumbiochemistry/python/blob/main/Income_Tax.ipynb\" target=\"_parent\"><img src=\"https://colab.research.google.com/assets/colab-badge.svg\" alt=\"Open In Colab\"/></a>"
      ]
    },
    {
      "cell_type": "code",
      "execution_count": null,
      "metadata": {
        "id": "rZ05LrzZ-gup"
      },
      "outputs": [],
      "source": [
        "Income = int(input(\"Hello, please enter your income. \"))\n",
        "TaxRatA = 0.15\n",
        "TaxRatB = 0.205\n",
        "TaxRatC = 0.26\n",
        "TaxRatD = 0.29\n",
        "TaxRatE = 0.33\n",
        "ThresholdA = 53359\n",
        "ThresholdB = 106717\n",
        "ThresholdC = 165430\n",
        "ThresholdD = 235675\n",
        "if Income < ThresholdA:\n",
        "    Tax = Income * TaxRatA\n",
        "    print('Your tax is $', Tax)\n",
        "elif Income < ThresholdB:\n",
        "    Tax = ThresholdA * TaxRatA + TaxRatB * (Income - ThresholdA)\n",
        "    print('Your tax is $', Tax)\n",
        "elif Income < ThresholdC:\n",
        "    Tax = ThresholdA * TaxRatA + TaxRatB * (ThresholdB - ThresholdA) + TaxRatC * (Income - ThresholdB)\n",
        "    print('Your tax is $', Tax)\n",
        "elif Income < ThresholdD:\n",
        "    Tax = ThresholdA * TaxRatA + TaxRatB * (ThresholdB - ThresholdA) + TaxRatC * (ThresholdC - ThresholdB) + TaxRatD * (Income - ThresholdC)\n",
        "    print('Your tax is $', Tax)\n",
        "elif Income > ThresholdD:\n",
        "    Tax = ThresholdA * TaxRatA + TaxRatB * (ThresholdB -ThresholdA) + TaxRatC * (ThresholdC - ThresholdB) + TaxRatD * (ThresholdD - ThresholdC) + TaxRatE * (Income - ThresholdD)\n",
        "    print('Your tax is $', Tax)\n"
      ]
    }
  ]
}