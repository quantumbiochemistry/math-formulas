{
  "nbformat": 4,
  "nbformat_minor": 0,
  "metadata": {
    "colab": {
      "provenance": [],
      "authorship_tag": "ABX9TyNxqzb8cZhD4MJ/n748wQWi",
      "include_colab_link": true
    },
    "kernelspec": {
      "name": "python3",
      "display_name": "Python 3"
    },
    "language_info": {
      "name": "python"
    }
  },
  "cells": [
    {
      "cell_type": "markdown",
      "metadata": {
        "id": "view-in-github",
        "colab_type": "text"
      },
      "source": [
        "<a href=\"https://colab.research.google.com/github/quantumbiochemistry/python/blob/main/Cosine_and_Sine_Law.ipynb\" target=\"_parent\"><img src=\"https://colab.research.google.com/assets/colab-badge.svg\" alt=\"Open In Colab\"/></a>"
      ]
    },
    {
      "cell_type": "code",
      "source": [
        "import math\n",
        "\n",
        "a = int(input('Type the first side length: '))\n",
        "b = int(input('Type the second side length: '))\n",
        "c = int(input('Type the angle: '))\n",
        "d = math.radians(c)\n",
        "e = math.sqrt(a**2+b**2-2*a*b*math.cos(d))\n",
        "f = round(e, 4)\n",
        "print ('The length is',f)"
      ],
      "metadata": {
        "id": "Gn5oKi8YCRDS"
      },
      "execution_count": null,
      "outputs": []
    },
    {
      "cell_type": "code",
      "source": [
        "import math\n",
        "x = int(input('Type side length a: '))\n",
        "y = int(input('Type angle A: '))\n",
        "z = int(input('Type a number greater than 1 if you want to find a side length, type 0 if you want to find an angle. '))\n",
        "\n",
        "if z > 0:\n",
        "  w = int(input('Type angle b: '))\n",
        "  v = math.radians(w)\n",
        "  q = math.radians(y)\n",
        "  m = math.sin(v)*x/math.sin(q)\n",
        "  print('Side length b is',m)\n",
        "\n",
        "else:\n",
        "  g = int(input('Type side b: '))\n",
        "  h = math.degrees(math.asin(math.sin(q)*g/x))\n",
        "  print('Angle B is',h)"
      ],
      "metadata": {
        "id": "j7SZeEI1gdh8"
      },
      "execution_count": null,
      "outputs": []
    }
  ]
}